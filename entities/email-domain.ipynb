{
 "cells": [
  {
   "cell_type": "code",
   "execution_count": 1,
   "metadata": {},
   "outputs": [],
   "source": [
    "import pandas as pd"
   ]
  },
  {
   "cell_type": "code",
   "execution_count": 2,
   "metadata": {},
   "outputs": [],
   "source": [
    "import re"
   ]
  },
  {
   "cell_type": "code",
   "execution_count": 3,
   "metadata": {},
   "outputs": [],
   "source": [
    "data = pd.read_csv('./Email Domain/HR Curated List BM.csv')"
   ]
  },
  {
   "cell_type": "code",
   "execution_count": 4,
   "metadata": {},
   "outputs": [
    {
     "data": {
      "text/html": [
       "<div>\n",
       "<style scoped>\n",
       "    .dataframe tbody tr th:only-of-type {\n",
       "        vertical-align: middle;\n",
       "    }\n",
       "\n",
       "    .dataframe tbody tr th {\n",
       "        vertical-align: top;\n",
       "    }\n",
       "\n",
       "    .dataframe thead th {\n",
       "        text-align: right;\n",
       "    }\n",
       "</style>\n",
       "<table border=\"1\" class=\"dataframe\">\n",
       "  <thead>\n",
       "    <tr style=\"text-align: right;\">\n",
       "      <th></th>\n",
       "      <th>First Name</th>\n",
       "      <th>Last\\rName</th>\n",
       "      <th>Email &amp; Linkedin Url</th>\n",
       "    </tr>\n",
       "  </thead>\n",
       "  <tbody>\n",
       "    <tr>\n",
       "      <th>0</th>\n",
       "      <td>Sourabh</td>\n",
       "      <td>Kane</td>\n",
       "      <td>sourabh.kane@pvcleanmobility.com\\rhttp://www.l...</td>\n",
       "    </tr>\n",
       "    <tr>\n",
       "      <th>1</th>\n",
       "      <td>Pawan</td>\n",
       "      <td>Kumar</td>\n",
       "      <td>pawan.kumar@autofitltd.com\\rhttp://www.linkedi...</td>\n",
       "    </tr>\n",
       "    <tr>\n",
       "      <th>2</th>\n",
       "      <td>Dora</td>\n",
       "      <td>Srivalli</td>\n",
       "      <td>srivallid@pisquaretech.com http://www.linkedin...</td>\n",
       "    </tr>\n",
       "    <tr>\n",
       "      <th>3</th>\n",
       "      <td>Khushboo</td>\n",
       "      <td>Sidana</td>\n",
       "      <td>khushboo.sidana@anandgroupindia.com\\rhttp://ww...</td>\n",
       "    </tr>\n",
       "    <tr>\n",
       "      <th>4</th>\n",
       "      <td>Shweta</td>\n",
       "      <td>Bansal</td>\n",
       "      <td>shweta.bansal@makinoindia.com\\rhttp://www.link...</td>\n",
       "    </tr>\n",
       "  </tbody>\n",
       "</table>\n",
       "</div>"
      ],
      "text/plain": [
       "  First Name Last\\rName                               Email & Linkedin Url\n",
       "0    Sourabh       Kane  sourabh.kane@pvcleanmobility.com\\rhttp://www.l...\n",
       "1      Pawan      Kumar  pawan.kumar@autofitltd.com\\rhttp://www.linkedi...\n",
       "2       Dora   Srivalli  srivallid@pisquaretech.com http://www.linkedin...\n",
       "3   Khushboo     Sidana  khushboo.sidana@anandgroupindia.com\\rhttp://ww...\n",
       "4     Shweta     Bansal  shweta.bansal@makinoindia.com\\rhttp://www.link..."
      ]
     },
     "execution_count": 4,
     "metadata": {},
     "output_type": "execute_result"
    }
   ],
   "source": [
    "data.head()"
   ]
  },
  {
   "cell_type": "code",
   "execution_count": 5,
   "metadata": {},
   "outputs": [],
   "source": [
    "data = data.drop(['First Name', \"Last\\rName\"], axis = 1)"
   ]
  },
  {
   "cell_type": "code",
   "execution_count": 43,
   "metadata": {},
   "outputs": [],
   "source": [
    "# Define the regex function\n",
    "def apply_regex_to_column(df, column_name):\n",
    "    # Compile the regex pattern\n",
    "    pattern = re.compile(r\"@(.+?)\\\\r|@(.+?)http\", re.MULTILINE)\n",
    "\n",
    "    # Apply the regex pattern to the specified column\n",
    "    def extract_and_clean_matches(text):\n",
    "        if isinstance(text, str):\n",
    "            matches = pattern.findall(text)\n",
    "            # Flatten the tuple and remove '\\r' from matches\n",
    "            return [match[0] if match[0] else match[1].replace('\\r', '').strip() for match in matches]\n",
    "        return []\n",
    "\n",
    "    df['domain'] = df[column_name].apply(extract_and_clean_matches)\n",
    "\n",
    "    # Convert single-item lists to strings\n",
    "    df['domain'] = df['domain'].apply(lambda x: x[0] if len(x) == 1 else 'gmail.com')\n",
    "    \n",
    "    return df['domain']"
   ]
  },
  {
   "cell_type": "code",
   "execution_count": 44,
   "metadata": {},
   "outputs": [],
   "source": [
    "data = apply_regex_to_column(data, 'Email & Linkedin Url')"
   ]
  },
  {
   "cell_type": "code",
   "execution_count": 47,
   "metadata": {},
   "outputs": [
    {
     "data": {
      "text/plain": [
       "count           104\n",
       "unique           83\n",
       "top       gmail.com\n",
       "freq             18\n",
       "Name: domain, dtype: object"
      ]
     },
     "execution_count": 47,
     "metadata": {},
     "output_type": "execute_result"
    }
   ],
   "source": [
    "data.describe()"
   ]
  },
  {
   "cell_type": "code",
   "execution_count": 48,
   "metadata": {},
   "outputs": [],
   "source": [
    "data.to_csv(\"domains.csv\")"
   ]
  },
  {
   "cell_type": "code",
   "execution_count": null,
   "metadata": {},
   "outputs": [],
   "source": []
  }
 ],
 "metadata": {
  "kernelspec": {
   "display_name": "Python 3",
   "language": "python",
   "name": "python3"
  },
  "language_info": {
   "codemirror_mode": {
    "name": "ipython",
    "version": 3
   },
   "file_extension": ".py",
   "mimetype": "text/x-python",
   "name": "python",
   "nbconvert_exporter": "python",
   "pygments_lexer": "ipython3",
   "version": "3.10.12"
  }
 },
 "nbformat": 4,
 "nbformat_minor": 4
}
