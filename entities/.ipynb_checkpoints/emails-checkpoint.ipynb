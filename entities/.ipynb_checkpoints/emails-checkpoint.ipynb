{
 "cells": [
  {
   "cell_type": "code",
   "execution_count": 1,
   "id": "ada7efbf-f055-436d-ab36-005f5edcbf05",
   "metadata": {},
   "outputs": [],
   "source": [
    "import random\n",
    "import csv\n",
    "import pandas as pd\n",
    "import json"
   ]
  },
  {
   "cell_type": "code",
   "execution_count": 2,
   "id": "e7111033-b18b-4827-9b33-43f6b6ca7bc1",
   "metadata": {},
   "outputs": [],
   "source": [
    "\n",
    "def load_csv_data(filename):\n",
    "    \"\"\"\n",
    "    Loads data from a CSV file.\n",
    "\n",
    "    Args:\n",
    "        filename (str): Path to the CSV file.\n",
    "\n",
    "    Returns:\n",
    "        list: List of items from the CSV file.\n",
    "    \"\"\"\n",
    "    data = pd.read_csv(filename,).to_numpy()\n",
    "    # print(data)\n",
    "    return data\n"
   ]
  },
  {
   "cell_type": "code",
   "execution_count": 3,
   "id": "319c28c7-441c-49e4-b2f1-7a5fc628da0f",
   "metadata": {},
   "outputs": [],
   "source": [
    "\n",
    "def generate_emails(male_names, female_names, domains, count):\n",
    "    \"\"\"\n",
    "    Generates a list of random emails using names and email domains.\n",
    "\n",
    "    Args:\n",
    "        male_names (list): List of male names.\n",
    "        female_names (list): List of female names.\n",
    "        domains (list): List of email domains.\n",
    "        count (int): Number of emails to generate.\n",
    "\n",
    "    Returns:\n",
    "        list: List of generated email addresses.\n",
    "    \"\"\"\n",
    "    emails = []\n",
    "    all_names = male_names[0] + female_names[0]\n",
    "    for _ in range(count):\n",
    "        name = random.choice(all_names).lower().replace(\" \", \"\")\n",
    "        number = random.randint(1, 888)\n",
    "        domain = random.choice(domains)\n",
    "        email = f\"{name}{number}@{domain[1]}\"\n",
    "        emails.append({\"email\":email})\n",
    "    return emails\n"
   ]
  },
  {
   "cell_type": "code",
   "execution_count": 4,
   "id": "75571b5f-8fad-474d-b2db-4363ca59da19",
   "metadata": {},
   "outputs": [],
   "source": [
    "\n",
    "def save_to_json(data, filename):\n",
    "    \"\"\"\n",
    "    Saves data to a CSV file.\n",
    "\n",
    "    Args:\n",
    "        data (list): Data to save.\n",
    "        filename (str): Name of the CSV file.\n",
    "\n",
    "    Returns:\n",
    "        None\n",
    "    \"\"\"\n",
    "    # Save the list to a JSON file\n",
    "    with open(filename, 'w') as file:\n",
    "        json.dump(data, file, indent=4)\n"
   ]
  },
  {
   "cell_type": "code",
   "execution_count": 5,
   "id": "78eb76ce-b640-4f99-9e5d-09a0c5c5e4cf",
   "metadata": {},
   "outputs": [
    {
     "name": "stdout",
     "output_type": "stream",
     "text": [
      "1000 emails have been generated and saved to 'emails.json'.\n"
     ]
    }
   ],
   "source": [
    "\n",
    "if __name__ == \"__main__\":\n",
    "    # Load names and domains from CSV files\n",
    "    female_names = load_csv_data(\"./Indian Female Names/Indian-Female-Names.csv\")\n",
    "    male_names = load_csv_data(\"./Indian Male Names/Indian-Male-Names.csv\")\n",
    "    domains = load_csv_data(\"domains.csv\")\n",
    "\n",
    "    # Generate 1000 emails\n",
    "    emails = generate_emails(male_names, female_names, domains, 1000)\n",
    "\n",
    "    # Save the generated emails to a CSV file\n",
    "    save_to_json(emails, \"emails.json\")\n",
    "\n",
    "    print(\"1000 emails have been generated and saved to 'emails.json'.\")\n"
   ]
  },
  {
   "cell_type": "code",
   "execution_count": null,
   "id": "93840848-2511-4459-be18-5c38716d9c1a",
   "metadata": {},
   "outputs": [],
   "source": []
  },
  {
   "cell_type": "code",
   "execution_count": null,
   "id": "7387a309-fac5-44f5-847d-335f8c8240d6",
   "metadata": {},
   "outputs": [],
   "source": []
  },
  {
   "cell_type": "code",
   "execution_count": null,
   "id": "5f7f2d27-f631-4dd8-883d-13280cde852f",
   "metadata": {},
   "outputs": [],
   "source": []
  },
  {
   "cell_type": "code",
   "execution_count": null,
   "id": "fad1a720-a078-4232-9c7a-6345ad8425e8",
   "metadata": {},
   "outputs": [],
   "source": []
  },
  {
   "cell_type": "code",
   "execution_count": null,
   "id": "c77e3e58-caa3-4e77-901b-9c744e8b2d1d",
   "metadata": {},
   "outputs": [],
   "source": []
  },
  {
   "cell_type": "code",
   "execution_count": null,
   "id": "b61d53a7-fe8c-43a3-8d6c-c345d2eea353",
   "metadata": {},
   "outputs": [],
   "source": []
  }
 ],
 "metadata": {
  "kernelspec": {
   "display_name": "Python 3",
   "language": "python",
   "name": "python3"
  },
  "language_info": {
   "codemirror_mode": {
    "name": "ipython",
    "version": 3
   },
   "file_extension": ".py",
   "mimetype": "text/x-python",
   "name": "python",
   "nbconvert_exporter": "python",
   "pygments_lexer": "ipython3",
   "version": "3.10.12"
  }
 },
 "nbformat": 4,
 "nbformat_minor": 5
}
