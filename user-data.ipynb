{
 "cells": [
  {
   "cell_type": "code",
   "execution_count": 1,
   "id": "a917d473-21a1-470e-a952-4cdd74cdbf56",
   "metadata": {},
   "outputs": [],
   "source": [
    "import json\n",
    "import random"
   ]
  },
  {
   "cell_type": "code",
   "execution_count": 2,
   "id": "69b512b4-d5fe-4846-8ddc-18e0c8959d2c",
   "metadata": {},
   "outputs": [],
   "source": [
    "male_names = \"./entities/male_names.json\"\n",
    "dob_file = \"./entities/user_dob.json\"\n",
    "city_file = \"./entities/city-names.json\"\n",
    "email_file = \"./entities/emails.json\"\n",
    "phone_file = \"./entities/phone_numbers.json\"\n",
    "aadhar_file = \"./entities/aadhar_number.json\"\n",
    "pan_file = \"./entities/pan_card.json\"\n",
    "voter_file = \"./entities/voter_id.json\"\n",
    "passport_file = \"./entities/passport_number.json\"\n",
    "driving_file = \"./entities/driving_licence_numbers.json\"\n",
    "bank_details_file = \"./entities/bank_details.json\"\n",
    "ip_file = \"./entities/ip_addresses.json\""
   ]
  },
  {
   "cell_type": "code",
   "execution_count": 3,
   "id": "6b85cc84-693e-4ec9-bc49-3942d2d7934f",
   "metadata": {},
   "outputs": [],
   "source": [
    "def import_json(filename):\n",
    "    with open(filename, \"r\") as file:\n",
    "        file_data = json.load(file)\n",
    "\n",
    "    return file_data"
   ]
  },
  {
   "cell_type": "code",
   "execution_count": 5,
   "id": "20208730-21f2-4e57-8286-775423ea9280",
   "metadata": {},
   "outputs": [],
   "source": [
    "names = import_json(male_names)\n",
    "dobs = import_json(dob_file)\n",
    "cities = import_json(city_file)\n",
    "emails = import_json(email_file)\n",
    "phones = import_json(phone_file)\n",
    "aadhars = import_json(aadhar_file)\n",
    "pans = import_json(pan_file)\n",
    "voters = import_json(voter_file)\n",
    "passports= import_json(passport_file)\n",
    "licenses = import_json(driving_file)\n",
    "bank_details = import_json(bank_details_file)\n",
    "ips = import_json(ip_file)"
   ]
  },
  {
   "cell_type": "code",
   "execution_count": 7,
   "id": "61686422-9416-4ef5-aec9-3b23fca751e0",
   "metadata": {},
   "outputs": [],
   "source": [
    "user_data = []\n",
    "for i in range(1000):\n",
    "    name = names[i][\"name\"] if random.choice([True,False]) else \"\"\n",
    "    gender = names[i][\"gender\"] if random.choice([True,False]) else \"\"\n",
    "    dob = dobs[i][\"dob\"] if random.choice([True,False]) else \"\"\n",
    "    nationality = names[i][\"race\"] if random.choice([True,False]) else \"\"\n",
    "    city = cities[i][\"accentcity\"] if random.choice([True,False]) else \"\"\n",
    "    email = emails[i][\"email\"] if random.choice([True,False]) else \"\"\n",
    "    phone_number = phones[i][\"phone\"] if random.choice([True,False]) else \"\"\n",
    "    aadhar_number = aadhars[i][\"aadhar\"] if random.choice([True,False]) else \"\"\n",
    "    pan_number = pans[i][\"pan_num\"] if random.choice([True,False]) else \"\"\n",
    "    voter_id_number = voters[i][\"voter_id\"] if random.choice([True,False]) else \"\"\n",
    "    passport_number = passports[i][\"passport_num\"] if random.choice([True,False]) else \"\"\n",
    "    license_number = licenses[i][\"license_num\"] if random.choice([True,False]) else \"\"\n",
    "    bank_account = bank_details[i][\"account_number\"] if random.choice([True,False]) else \"\"\n",
    "    bank_ifsc_code = bank_details[i][\"ifsc_code\"] if random.choice([True,False]) else \"\"\n",
    "    atm_card_number = bank_details[i][\"card_number\"] if random.choice([True,False]) else \"\"\n",
    "    cvv_number = bank_details[i][\"cvv\"] if random.choice([True,False]) else \"\"\n",
    "    ip = ips[i][\"ip_address\"] if random.choice([True,False]) else \"\"\n",
    "\n",
    "    data = {\n",
    "        \"name\" : name,\n",
    "        \"gender\": gender,\n",
    "        \"dob\": dob,\n",
    "        \"nationality\": nationality,\n",
    "        \"city\" : city,\n",
    "        \"email\" : email,\n",
    "        \"phone_number\" : phone_number,\n",
    "        \"aadhar_number\" : aadhar_number,\n",
    "        \"pan_number\" : pan_number,\n",
    "        \"voter_id_number\" : voter_id_number,\n",
    "        \"passport_number\" : passport_number,\n",
    "        \"license_number\" : license_number,\n",
    "        \"bank_account\": bank_account,\n",
    "        \"bank_ifsc_code\": bank_ifsc_code,\n",
    "        \"atm_card_number\": atm_card_number,\n",
    "        \"cvv_number\": cvv_number,\n",
    "        \"ip_address\" : ip,\n",
    "    }\n",
    "\n",
    "    user_data.append(data)\n",
    "    "
   ]
  },
  {
   "cell_type": "code",
   "execution_count": 8,
   "id": "96699652-de55-4ad6-876b-490fdf5136bb",
   "metadata": {},
   "outputs": [
    {
     "data": {
      "text/plain": [
       "{'name': '',\n",
       " 'gender': '',\n",
       " 'dob': '06/10/2018',\n",
       " 'nationality': '',\n",
       " 'city': '',\n",
       " 'email': '',\n",
       " 'phone_number': '+918657189773',\n",
       " 'aadhar_number': '927832813627',\n",
       " 'pan_number': '',\n",
       " 'voter_id_number': 'JKR4943350',\n",
       " 'passport_number': 'S12 83848',\n",
       " 'license_number': 'SK92 20109676378',\n",
       " 'bank_account': '369290501142',\n",
       " 'bank_ifsc_code': '',\n",
       " 'atm_card_number': '50786592905011426',\n",
       " 'cvv_number': '837',\n",
       " 'ip_address': '46.81.232.82'}"
      ]
     },
     "execution_count": 8,
     "metadata": {},
     "output_type": "execute_result"
    }
   ],
   "source": [
    "user_data[0]"
   ]
  },
  {
   "cell_type": "code",
   "execution_count": 9,
   "id": "759a02b8-647a-4e3d-bca3-0c03c02b7b5b",
   "metadata": {},
   "outputs": [],
   "source": [
    "import json"
   ]
  },
  {
   "cell_type": "code",
   "execution_count": 10,
   "id": "79186b58-e523-419b-a987-9a6020b697e9",
   "metadata": {},
   "outputs": [],
   "source": [
    "with open(\"user_data.json\", \"w\") as file:\n",
    "    json.dump(user_data, file, indent = 4)"
   ]
  },
  {
   "cell_type": "code",
   "execution_count": null,
   "id": "8999462c-6b1e-413b-a52d-1aaead1bd26f",
   "metadata": {},
   "outputs": [],
   "source": []
  },
  {
   "cell_type": "code",
   "execution_count": null,
   "id": "23780d42-0811-48ff-9f1c-76a233584f0a",
   "metadata": {},
   "outputs": [],
   "source": []
  },
  {
   "cell_type": "code",
   "execution_count": null,
   "id": "aee6a205-8ce1-4850-bacb-46ca3a677f67",
   "metadata": {},
   "outputs": [],
   "source": []
  },
  {
   "cell_type": "code",
   "execution_count": null,
   "id": "ef94045e-ff52-4d46-b797-ed1ec033ea3b",
   "metadata": {},
   "outputs": [],
   "source": []
  },
  {
   "cell_type": "code",
   "execution_count": null,
   "id": "7854909e-fa07-4f03-9c19-f06f61f1de2e",
   "metadata": {},
   "outputs": [],
   "source": []
  },
  {
   "cell_type": "code",
   "execution_count": null,
   "id": "24718b00-4d01-4a38-a270-a4cb416c409d",
   "metadata": {},
   "outputs": [],
   "source": []
  },
  {
   "cell_type": "code",
   "execution_count": null,
   "id": "c395a491-4d82-4112-a7b6-20aa0ccced77",
   "metadata": {},
   "outputs": [],
   "source": []
  },
  {
   "cell_type": "code",
   "execution_count": null,
   "id": "ecced911-e72d-4a2c-a47c-bdc3b56974f6",
   "metadata": {},
   "outputs": [],
   "source": []
  },
  {
   "cell_type": "code",
   "execution_count": null,
   "id": "ccb4cda1-5a6d-4cd9-b67e-5f720e7520bb",
   "metadata": {},
   "outputs": [],
   "source": []
  },
  {
   "cell_type": "code",
   "execution_count": null,
   "id": "21fc8c99-70ea-4fee-a500-9f7a3f106de9",
   "metadata": {},
   "outputs": [],
   "source": []
  },
  {
   "cell_type": "code",
   "execution_count": null,
   "id": "8270010f-7428-4c81-9bb1-957e736b439f",
   "metadata": {},
   "outputs": [],
   "source": []
  },
  {
   "cell_type": "code",
   "execution_count": null,
   "id": "be744865-16e7-49f7-a177-8d13988f921a",
   "metadata": {},
   "outputs": [],
   "source": []
  },
  {
   "cell_type": "code",
   "execution_count": null,
   "id": "de3c2ae3-6403-474e-9508-6d42b6042857",
   "metadata": {},
   "outputs": [],
   "source": []
  },
  {
   "cell_type": "code",
   "execution_count": null,
   "id": "ab1d025a-1d08-4b22-8149-8fc4978bca7b",
   "metadata": {},
   "outputs": [],
   "source": []
  },
  {
   "cell_type": "code",
   "execution_count": null,
   "id": "e4649375-2e34-46a8-b4e3-a11b26c7358a",
   "metadata": {},
   "outputs": [],
   "source": []
  },
  {
   "cell_type": "code",
   "execution_count": null,
   "id": "9ec31401-e51c-425d-96a4-eb24973fc4fc",
   "metadata": {},
   "outputs": [],
   "source": []
  },
  {
   "cell_type": "code",
   "execution_count": null,
   "id": "2079cdaf-8ed9-4e9a-abbd-599764bf4c9a",
   "metadata": {},
   "outputs": [],
   "source": []
  },
  {
   "cell_type": "code",
   "execution_count": null,
   "id": "c11a93de-4198-422b-b2fb-db816cf1a530",
   "metadata": {},
   "outputs": [],
   "source": []
  },
  {
   "cell_type": "code",
   "execution_count": null,
   "id": "df8a9eae-a80c-4bab-96ad-8bd621387c03",
   "metadata": {},
   "outputs": [],
   "source": []
  },
  {
   "cell_type": "code",
   "execution_count": null,
   "id": "7c12d36d-f85b-4271-9d9e-9af740a2ce7f",
   "metadata": {},
   "outputs": [],
   "source": []
  },
  {
   "cell_type": "code",
   "execution_count": null,
   "id": "e9bff6c5-a6e9-402b-b686-d34a07023026",
   "metadata": {},
   "outputs": [],
   "source": []
  }
 ],
 "metadata": {
  "kernelspec": {
   "display_name": "Python 3 (ipykernel)",
   "language": "python",
   "name": "python3"
  },
  "language_info": {
   "codemirror_mode": {
    "name": "ipython",
    "version": 3
   },
   "file_extension": ".py",
   "mimetype": "text/x-python",
   "name": "python",
   "nbconvert_exporter": "python",
   "pygments_lexer": "ipython3",
   "version": "3.10.12"
  }
 },
 "nbformat": 4,
 "nbformat_minor": 5
}
